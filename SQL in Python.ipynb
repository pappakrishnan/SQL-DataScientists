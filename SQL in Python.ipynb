{
 "cells": [
  {
   "cell_type": "code",
   "execution_count": 31,
   "id": "4834d988",
   "metadata": {},
   "outputs": [],
   "source": [
    "# import the required modules\n",
    "import sqlalchemy as db"
   ]
  },
  {
   "cell_type": "code",
   "execution_count": 32,
   "id": "aec43c20",
   "metadata": {},
   "outputs": [
    {
     "data": {
      "text/plain": [
       "'1.4.32'"
      ]
     },
     "execution_count": 32,
     "metadata": {},
     "output_type": "execute_result"
    }
   ],
   "source": [
    "# Check the version of the sqlalchemy\n",
    "db.__version__"
   ]
  },
  {
   "cell_type": "code",
   "execution_count": 3,
   "id": "e357ef4d",
   "metadata": {},
   "outputs": [
    {
     "name": "stdout",
     "output_type": "stream",
     "text": [
      "Requirement already satisfied: psycopg2-binary in /Users/venkat/opt/anaconda3/lib/python3.9/site-packages (2.9.3)\r\n"
     ]
    }
   ],
   "source": [
    "# install from jupyter notebook if any supported packages are required\n",
    "# In our case, we need the psycopg2 driver to be able to connect to the postgresDB\n",
    "!python -m pip install psycopg2-binary "
   ]
  },
  {
   "cell_type": "markdown",
   "id": "232f1d3b",
   "metadata": {},
   "source": [
    "### Establish connection:"
   ]
  },
  {
   "cell_type": "markdown",
   "id": "ae1191d8",
   "metadata": {},
   "source": [
    "Set the credentials that you have created during the installation or setup of your DB (postgresDB)"
   ]
  },
  {
   "cell_type": "code",
   "execution_count": 34,
   "id": "e27ea1c8",
   "metadata": {},
   "outputs": [],
   "source": [
    "# credentials for connecting to your DB\n",
    "user = 'postgres'\n",
    "password = '123456'\n",
    "host = 'localhost'\n",
    "port = '5432'\n",
    "dbn = 'postgres'"
   ]
  },
  {
   "cell_type": "markdown",
   "id": "9697c5fb",
   "metadata": {},
   "source": [
    "Create a connection to the DB"
   ]
  },
  {
   "cell_type": "code",
   "execution_count": 35,
   "id": "188cda43",
   "metadata": {},
   "outputs": [],
   "source": [
    "connect = 'postgresql://{}:{}@{}:{}/{}'.format(user, password, host, port, dbn)\n",
    "engine = db.create_engine(connect)\n",
    "connection = engine.connect()"
   ]
  },
  {
   "cell_type": "markdown",
   "id": "08ff070c",
   "metadata": {},
   "source": [
    "### Initialize the Metadata Object"
   ]
  },
  {
   "cell_type": "markdown",
   "id": "f2ca0663",
   "metadata": {},
   "source": [
    "Create an metadata object to access the DB"
   ]
  },
  {
   "cell_type": "code",
   "execution_count": 36,
   "id": "1c5ec70c",
   "metadata": {},
   "outputs": [],
   "source": [
    "metadata = db.MetaData()"
   ]
  },
  {
   "cell_type": "markdown",
   "id": "171a5f5a",
   "metadata": {},
   "source": [
    "### Create a table schema"
   ]
  },
  {
   "cell_type": "code",
   "execution_count": 37,
   "id": "5683dfe0",
   "metadata": {},
   "outputs": [],
   "source": [
    "emp = db.Table('emp', metadata,\n",
    "              db.Column('Id', db.Integer()),\n",
    "              db.Column('name', db.String(255), nullable=False),\n",
    "              db.Column('salary', db.Float(), default=100.0),\n",
    "              db.Column('active', db.Boolean(), default=True))"
   ]
  },
  {
   "cell_type": "markdown",
   "id": "bb337771",
   "metadata": {},
   "source": [
    "### Create the table"
   ]
  },
  {
   "cell_type": "code",
   "execution_count": 38,
   "id": "41108c37",
   "metadata": {},
   "outputs": [],
   "source": [
    "metadata.create_all(engine) # creates the table"
   ]
  },
  {
   "cell_type": "code",
   "execution_count": 39,
   "id": "13b23ade",
   "metadata": {},
   "outputs": [],
   "source": [
    "emp.create(engine, checkfirst=True) # other method"
   ]
  },
  {
   "cell_type": "markdown",
   "id": "eb91d69f",
   "metadata": {},
   "source": [
    "### View all the tables in the DB using metadata object"
   ]
  },
  {
   "cell_type": "code",
   "execution_count": 40,
   "id": "ad2ba46e",
   "metadata": {},
   "outputs": [
    {
     "name": "stdout",
     "output_type": "stream",
     "text": [
      "emp\n"
     ]
    }
   ],
   "source": [
    "for t in metadata.sorted_tables:\n",
    "    print(t.name)"
   ]
  },
  {
   "cell_type": "markdown",
   "id": "cad9661c",
   "metadata": {},
   "source": [
    "Feel free to add more parameters to the print statement to view more about the table"
   ]
  },
  {
   "cell_type": "markdown",
   "id": "70fdd7ac",
   "metadata": {},
   "source": [
    "### View Schema of a table:"
   ]
  },
  {
   "cell_type": "code",
   "execution_count": 41,
   "id": "98141643",
   "metadata": {},
   "outputs": [
    {
     "name": "stdout",
     "output_type": "stream",
     "text": [
      "emp.Id INTEGER True\n",
      "emp.name VARCHAR(255) False\n",
      "emp.salary FLOAT True\n",
      "emp.active BOOLEAN True\n"
     ]
    }
   ],
   "source": [
    "for c in emp.c:\n",
    "    print(c, c.type, c.nullable)"
   ]
  },
  {
   "cell_type": "markdown",
   "id": "b4a3d9de",
   "metadata": {},
   "source": [
    "### View Table"
   ]
  },
  {
   "cell_type": "code",
   "execution_count": 42,
   "id": "13023199",
   "metadata": {},
   "outputs": [],
   "source": [
    "from sqlalchemy.ext.automap import automap_base\n",
    "from sqlalchemy.orm import sessionmaker\n",
    "from sqlalchemy import select"
   ]
  },
  {
   "cell_type": "code",
   "execution_count": 43,
   "id": "d66cc0ff",
   "metadata": {},
   "outputs": [],
   "source": [
    "Session = sessionmaker(bind=engine)\n",
    "session = Session()"
   ]
  },
  {
   "cell_type": "markdown",
   "id": "4548f592",
   "metadata": {},
   "source": [
    "#### Method-1"
   ]
  },
  {
   "cell_type": "code",
   "execution_count": 44,
   "id": "930aa1c0",
   "metadata": {},
   "outputs": [
    {
     "data": {
      "text/plain": [
       "[]"
      ]
     },
     "execution_count": 44,
     "metadata": {},
     "output_type": "execute_result"
    }
   ],
   "source": [
    "stmt = select('*').select_from(emp)\n",
    "result = session.execute(stmt).fetchall()\n",
    "result"
   ]
  },
  {
   "cell_type": "markdown",
   "id": "56407340",
   "metadata": {},
   "source": [
    "#### Method-2"
   ]
  },
  {
   "cell_type": "code",
   "execution_count": 45,
   "id": "f39beae7",
   "metadata": {},
   "outputs": [
    {
     "data": {
      "text/plain": [
       "[]"
      ]
     },
     "execution_count": 45,
     "metadata": {},
     "output_type": "execute_result"
    }
   ],
   "source": [
    "sql = \"select * from emp;\"\n",
    "connection.execute(sql).fetchall()"
   ]
  },
  {
   "cell_type": "markdown",
   "id": "74019e4f",
   "metadata": {},
   "source": [
    "### Insert Data:"
   ]
  },
  {
   "cell_type": "code",
   "execution_count": 16,
   "id": "1e4755d6",
   "metadata": {},
   "outputs": [],
   "source": [
    "query = db.insert(emp).values(Id=2, name='Harry', salary=10000.00, active=True) \n",
    "ResultProxy = connection.execute(query)"
   ]
  },
  {
   "cell_type": "code",
   "execution_count": 17,
   "id": "1d99e293",
   "metadata": {},
   "outputs": [],
   "source": [
    "query = db.insert(emp) \n",
    "values_list = [{'Id':'9', 'name':'Richard', 'salary':50000, 'active':False},\n",
    "               {'Id':'5', 'name':'Howard', 'salary':20000, 'active':True}]\n",
    "ResultProxy = connection.execute(query, values_list)"
   ]
  },
  {
   "cell_type": "markdown",
   "id": "ee1f2dc7",
   "metadata": {},
   "source": [
    "To view all the data"
   ]
  },
  {
   "cell_type": "code",
   "execution_count": 18,
   "id": "764e114e",
   "metadata": {},
   "outputs": [
    {
     "data": {
      "text/plain": [
       "[(2, 'Harry', 10000.0, True),\n",
       " (9, 'Richard', 50000.0, False),\n",
       " (5, 'Howard', 20000.0, True)]"
      ]
     },
     "execution_count": 18,
     "metadata": {},
     "output_type": "execute_result"
    }
   ],
   "source": [
    "sql = \"select * from emp;\"\n",
    "connection.execute(sql).fetchall()"
   ]
  },
  {
   "cell_type": "markdown",
   "id": "5984b63c",
   "metadata": {},
   "source": [
    "### Update:"
   ]
  },
  {
   "cell_type": "code",
   "execution_count": 19,
   "id": "cf51b6f7",
   "metadata": {},
   "outputs": [],
   "source": [
    "from sqlalchemy import update"
   ]
  },
  {
   "cell_type": "code",
   "execution_count": 20,
   "id": "5bd53025",
   "metadata": {},
   "outputs": [],
   "source": [
    "query = update(emp).values({\"name\":\"Nick\"}).where(emp.c.Id == '5')\n",
    "ResultProxy = connection.execute(query)"
   ]
  },
  {
   "cell_type": "code",
   "execution_count": 21,
   "id": "0a76afcf",
   "metadata": {},
   "outputs": [
    {
     "data": {
      "text/plain": [
       "[(2, 'Harry', 10000.0, True),\n",
       " (9, 'Richard', 50000.0, False),\n",
       " (5, 'Nick', 20000.0, True)]"
      ]
     },
     "execution_count": 21,
     "metadata": {},
     "output_type": "execute_result"
    }
   ],
   "source": [
    "stmt = select('*').select_from(emp)\n",
    "result = session.execute(stmt).fetchall()\n",
    "result"
   ]
  },
  {
   "cell_type": "markdown",
   "id": "2497a9ff",
   "metadata": {},
   "source": [
    "### Delete"
   ]
  },
  {
   "cell_type": "markdown",
   "id": "e888d3cd",
   "metadata": {},
   "source": [
    "Truncate a table - remove data without deleting the table itself"
   ]
  },
  {
   "cell_type": "code",
   "execution_count": 22,
   "id": "8867bf38",
   "metadata": {},
   "outputs": [],
   "source": [
    "query = emp.delete()\n",
    "result = connection.execute(query)"
   ]
  },
  {
   "cell_type": "code",
   "execution_count": 23,
   "id": "f3105bce",
   "metadata": {},
   "outputs": [
    {
     "data": {
      "text/plain": [
       "[]"
      ]
     },
     "execution_count": 23,
     "metadata": {},
     "output_type": "execute_result"
    }
   ],
   "source": [
    "stmt = select('*').select_from(emp)\n",
    "result = session.execute(stmt).fetchall()\n",
    "result"
   ]
  },
  {
   "cell_type": "markdown",
   "id": "00350a21",
   "metadata": {},
   "source": [
    "### Drop:"
   ]
  },
  {
   "cell_type": "markdown",
   "id": "439fd000",
   "metadata": {},
   "source": [
    "Drop the table itself. "
   ]
  },
  {
   "cell_type": "code",
   "execution_count": 24,
   "id": "a6176c87",
   "metadata": {},
   "outputs": [],
   "source": [
    "session.close() # this is important. Close all the open sessions to be able to drop a table"
   ]
  },
  {
   "cell_type": "code",
   "execution_count": 25,
   "id": "fdf2890c",
   "metadata": {},
   "outputs": [],
   "source": [
    "emp.drop(engine) #drops a single table"
   ]
  },
  {
   "cell_type": "code",
   "execution_count": 29,
   "id": "eb587de7",
   "metadata": {},
   "outputs": [],
   "source": [
    "metadata = db.MetaData()\n",
    "for t in metadata.sorted_tables:\n",
    "    print(t.name)"
   ]
  },
  {
   "cell_type": "markdown",
   "id": "a2296f92",
   "metadata": {},
   "source": [
    "Nothing returned. The table has been deleted."
   ]
  },
  {
   "cell_type": "markdown",
   "id": "e8d62073",
   "metadata": {},
   "source": [
    "### Drop all the tables:"
   ]
  },
  {
   "cell_type": "code",
   "execution_count": 26,
   "id": "dee4603f",
   "metadata": {},
   "outputs": [],
   "source": [
    "metadata.drop_all(engine) #drops all the tables in the database"
   ]
  },
  {
   "cell_type": "code",
   "execution_count": 30,
   "id": "2d2aa5ab",
   "metadata": {},
   "outputs": [],
   "source": [
    "metadata = db.MetaData()\n",
    "for t in metadata.sorted_tables:\n",
    "    print(t.name)"
   ]
  },
  {
   "cell_type": "markdown",
   "id": "c3405db4",
   "metadata": {},
   "source": [
    "Nothing returned. The table has been deleted."
   ]
  },
  {
   "cell_type": "markdown",
   "id": "dd0afac8",
   "metadata": {},
   "source": [
    "---"
   ]
  }
 ],
 "metadata": {
  "kernelspec": {
   "display_name": "Python 3 (ipykernel)",
   "language": "python",
   "name": "python3"
  },
  "language_info": {
   "codemirror_mode": {
    "name": "ipython",
    "version": 3
   },
   "file_extension": ".py",
   "mimetype": "text/x-python",
   "name": "python",
   "nbconvert_exporter": "python",
   "pygments_lexer": "ipython3",
   "version": "3.9.12"
  }
 },
 "nbformat": 4,
 "nbformat_minor": 5
}
